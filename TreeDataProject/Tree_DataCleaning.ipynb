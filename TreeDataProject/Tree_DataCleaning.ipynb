{
 "cells": [
  {
   "cell_type": "code",
   "execution_count": null,
   "id": "413b70cc-bc54-48a3-9996-e6185243da52",
   "metadata": {},
   "outputs": [],
   "source": [
    "import pandas as pd\n",
    "import matplotlib as plt\n",
    "\n",
    "pd.set_option('display.max_columns', None)"
   ]
  },
  {
   "cell_type": "code",
   "execution_count": null,
   "id": "74eae5ef-3675-4dc5-8764-a53fa176b553",
   "metadata": {},
   "outputs": [],
   "source": [
    "tree_census = pd.read_csv('Tree_Data.csv')\n",
    "tree_census"
   ]
  },
  {
   "cell_type": "code",
   "execution_count": null,
   "id": "b055c43c-aacf-47f1-b197-34b3c85b4f5b",
   "metadata": {},
   "outputs": [],
   "source": [
    "tree_census.columns"
   ]
  },
  {
   "cell_type": "code",
   "execution_count": null,
   "id": "31ad5435-7fd0-4caa-b312-9fd3e648ffa4",
   "metadata": {},
   "outputs": [],
   "source": [
    "#Create subset of the data using the needed information\n",
    "tree_subset = tree_census[['tree_id', 'tree_dbh', 'stump_diam',\n",
    "       'curb_loc', 'status', 'health', 'spc_latin', 'steward', 'sidewalk', 'problems', 'root_stone',\n",
    "       'root_grate', 'root_other', 'trunk_wire', 'trnk_light', 'trnk_other',\n",
    "       'brch_light', 'brch_shoe', 'brch_other']]\n",
    "tree_subset"
   ]
  },
  {
   "cell_type": "code",
   "execution_count": null,
   "id": "56f61734-d25a-40fb-b2dd-cb62b58a5678",
   "metadata": {},
   "outputs": [],
   "source": [
    "tree_subset.isna().sum()"
   ]
  },
  {
   "cell_type": "code",
   "execution_count": null,
   "id": "08bf3ac9-497f-4125-a483-bd69f36f65b6",
   "metadata": {},
   "outputs": [],
   "source": [
    "#Checking for N/A values in the dataset\n",
    "tree_subset[tree_subset['problems'].isna()].head()"
   ]
  },
  {
   "cell_type": "code",
   "execution_count": null,
   "id": "dfdcf42c-fdbe-42b6-aa87-9340ac08c6f0",
   "metadata": {},
   "outputs": [],
   "source": [
    "tree_subset[tree_subset['health'].isna()].head()"
   ]
  },
  {
   "cell_type": "code",
   "execution_count": null,
   "id": "65bec0bd-a150-4297-a8b8-7acfcb5ada68",
   "metadata": {},
   "outputs": [],
   "source": [
    "tree_subset.describe().transpose()"
   ]
  },
  {
   "cell_type": "code",
   "execution_count": null,
   "id": "9b876f24-dbd6-41c0-9da9-b61ed7885e85",
   "metadata": {},
   "outputs": [],
   "source": [
    "tree_subset.dtypes"
   ]
  },
  {
   "cell_type": "code",
   "execution_count": null,
   "id": "58f157ff-b139-4634-8643-d1b39e27cfa1",
   "metadata": {},
   "outputs": [],
   "source": [
    "#Histograms for distribution of the values\n",
    "tree_subset.hist(bins=60, figsize=(20,10))"
   ]
  },
  {
   "cell_type": "code",
   "execution_count": null,
   "id": "0500b4c3-e9ce-4657-b3ec-e1e337eafa5a",
   "metadata": {},
   "outputs": [],
   "source": [
    "large_trees = tree_subset[tree_subset['tree_dbh']>50]\n",
    "large_trees\n",
    "\n",
    "non_zero = tree_subset[tree_subset['stump_diam']>0]"
   ]
  },
  {
   "cell_type": "code",
   "execution_count": null,
   "id": "b253a5b3-9d86-4796-b00e-d7327653a3e8",
   "metadata": {},
   "outputs": [],
   "source": [
    "#Scatterplot of the larger trees 'breast height diameter' (Described above)\n",
    "large_trees[['tree_id', 'tree_dbh']].plot(kind='scatter', x='tree_id', y='tree_dbh',figsize=(15,10))"
   ]
  },
  {
   "cell_type": "code",
   "execution_count": null,
   "id": "763c053c-d41d-4bf4-9b5b-35cab1f9b2f0",
   "metadata": {},
   "outputs": [],
   "source": [
    "#Scatterplot of all trees diameter (Described above; greater than 0)\n",
    "non_zero[['tree_id', 'stump_diam']].plot(kind='scatter', x='tree_id', y='stump_diam',figsize=(20,10))"
   ]
  },
  {
   "cell_type": "code",
   "execution_count": null,
   "id": "65eb0910-3783-44e2-ace7-d51b3ac55dfa",
   "metadata": {},
   "outputs": [],
   "source": [
    "tree_census['spc_latin'].value_counts()"
   ]
  },
  {
   "cell_type": "code",
   "execution_count": null,
   "id": "7e9ef890-688a-449b-9fb1-56035060e5ce",
   "metadata": {},
   "outputs": [],
   "source": [
    "#Turn the value_counts from above into a DataFrame\n",
    "pd.DataFrame(tree_census['spc_latin'].value_counts())"
   ]
  },
  {
   "cell_type": "code",
   "execution_count": null,
   "id": "4c5127ce-c24b-496c-9e41-802ad9e62342",
   "metadata": {},
   "outputs": [],
   "source": [
    "#Turn the DataFrame into a chart\n",
    "pd.DataFrame(tree_census['spc_latin'].value_counts()).plot(kind='bar')"
   ]
  },
  {
   "cell_type": "code",
   "execution_count": null,
   "id": "192452fe-77d4-42c2-ab6f-98c837934a03",
   "metadata": {},
   "outputs": [],
   "source": [
    "#Adjust Size and show top 50\n",
    "top_names = tree_census['spc_latin'].value_counts().head(50)"
   ]
  },
  {
   "cell_type": "code",
   "execution_count": null,
   "id": "96e03d43-8909-47df-bda1-70d276eed67e",
   "metadata": {},
   "outputs": [],
   "source": [
    "top_names.plot(kind='bar', figsize=(20,10))"
   ]
  },
  {
   "cell_type": "code",
   "execution_count": null,
   "id": "5e61b8a9-9c52-4a15-87e2-062ac2268f60",
   "metadata": {},
   "outputs": [],
   "source": [
    "#Find the values in different columns\n",
    "tree_subset['steward'].value_counts()"
   ]
  },
  {
   "cell_type": "code",
   "execution_count": null,
   "id": "3a3ac638-f075-4370-9f2a-0a6b2eda9d23",
   "metadata": {},
   "outputs": [],
   "source": [
    "tree_subset['steward'].isnull().sum()"
   ]
  },
  {
   "cell_type": "code",
   "execution_count": null,
   "id": "1c106bf0-b60c-4d95-aeb3-6faa57e6b2be",
   "metadata": {},
   "outputs": [],
   "source": [
    "tree_subset['sidewalk'].value_counts()"
   ]
  },
  {
   "cell_type": "code",
   "execution_count": null,
   "id": "95fceb08-24e4-42d0-aef1-d2c3b9334534",
   "metadata": {},
   "outputs": [],
   "source": [
    "tree_subset['sidewalk'].isnull().sum()"
   ]
  },
  {
   "cell_type": "code",
   "execution_count": null,
   "id": "f58111c0-bcda-46f7-aba4-cba28447e464",
   "metadata": {},
   "outputs": [],
   "source": [
    "tree_subset[tree_subset['health'].isna()]"
   ]
  },
  {
   "cell_type": "code",
   "execution_count": null,
   "id": "a5576368-9cb8-43ea-a499-bcc4f1bf424b",
   "metadata": {},
   "outputs": [],
   "source": [
    "stumps = tree_subset[tree_subset['status']=='Stump']\n",
    "stumps"
   ]
  },
  {
   "cell_type": "code",
   "execution_count": null,
   "id": "a75127d9-7dd8-40f2-b477-a9cb76f71c81",
   "metadata": {},
   "outputs": [],
   "source": [
    "tree_subset['health'].value_counts()"
   ]
  },
  {
   "cell_type": "code",
   "execution_count": null,
   "id": "6192e0e3-b1c4-4a3c-ad6c-8bf9c64b80e5",
   "metadata": {},
   "outputs": [],
   "source": [
    "dead_trees = tree_subset[tree_subset['status']==\"Dead\"]\n",
    "dead_trees"
   ]
  },
  {
   "cell_type": "code",
   "execution_count": null,
   "id": "375de1bc-5180-4f4f-af62-3778da22d126",
   "metadata": {},
   "outputs": [],
   "source": [
    "tree_subset.columns"
   ]
  },
  {
   "cell_type": "code",
   "execution_count": null,
   "id": "cdab34ca-a44a-4b3b-9dc1-d9b715960867",
   "metadata": {},
   "outputs": [],
   "source": [
    "tree_problems = tree_subset[['root_stone', 'root_grate', 'root_other', 'trunk_wire', 'trnk_light', 'trnk_other',\n",
    "       'brch_light', 'brch_shoe', 'brch_other']]\n",
    "tree_problems"
   ]
  },
  {
   "cell_type": "code",
   "execution_count": null,
   "id": "ab351f12-6f1d-4596-bf14-3a4e3b314394",
   "metadata": {},
   "outputs": [],
   "source": [
    "#Root stone has/causes the most problems\n",
    "tree_problems.apply(pd.Series.value_counts)"
   ]
  },
  {
   "cell_type": "code",
   "execution_count": null,
   "id": "7cc4f7d6-47f1-479a-a14f-e8ffd2946087",
   "metadata": {},
   "outputs": [],
   "source": [
    "#FURTHER DATA CLEANING AND MAKING DATA UNIFORM"
   ]
  },
  {
   "cell_type": "code",
   "execution_count": null,
   "id": "cc4d6aff-5d2a-4e8f-a767-ffde64bce639",
   "metadata": {},
   "outputs": [],
   "source": [
    "mask = ((tree_subset['status'] == 'Stump') | (tree_subset['status'] == 'Dead'))"
   ]
  },
  {
   "cell_type": "code",
   "execution_count": null,
   "id": "6e366e09-4ef3-4abc-83e2-37104e4ce3b7",
   "metadata": {},
   "outputs": [],
   "source": [
    "tree_subset.loc[mask] = tree_subset.loc[mask].fillna('Not Applicable')"
   ]
  },
  {
   "cell_type": "code",
   "execution_count": null,
   "id": "e5a9a912-1445-4aeb-8ecd-fbb9e9a1cd75",
   "metadata": {},
   "outputs": [],
   "source": [
    "tree_subset[tree_subset['status']=='Stump'].head(5)"
   ]
  },
  {
   "cell_type": "code",
   "execution_count": null,
   "id": "f6534202-0cd7-4008-a646-5506cfd9f385",
   "metadata": {},
   "outputs": [],
   "source": [
    "tree_subset.isna().sum()"
   ]
  },
  {
   "cell_type": "code",
   "execution_count": null,
   "id": "a3e5ea6e-da09-4aaf-a4d3-b8f1983215e4",
   "metadata": {},
   "outputs": [],
   "source": [
    "#Fill in missing data and\n",
    "tree_subset[tree_subset['problems'].isna()]"
   ]
  },
  {
   "cell_type": "code",
   "execution_count": null,
   "id": "566ca252-0acc-484c-ab14-84cad80f6a25",
   "metadata": {},
   "outputs": [],
   "source": [
    "tree_subset['problems'].fillna(\"None\", inplace=True)\n",
    "tree_subset['health'].fillna(\"Good\", inplace=True)\n",
    "tree_subset['sidewalk'].fillna(\"No Damage\", inplace=True)\n",
    "tree_subset['spc_latin'].fillna(\"No Observation\", inplace=True)\n",
    "tree_subset['steward'].fillna(\"Unknown\", inplace=True)"
   ]
  },
  {
   "cell_type": "code",
   "execution_count": null,
   "id": "a3223ee9-31a7-4903-967e-bf2a98b22808",
   "metadata": {},
   "outputs": [],
   "source": [
    "tree_subset.isna().sum()"
   ]
  },
  {
   "cell_type": "code",
   "execution_count": null,
   "id": "7f3e3683-b3a5-4cba-b4b0-dde3a18db2af",
   "metadata": {},
   "outputs": [],
   "source": [
    "#outliers for huge trees, only 245 results / 600,000\n",
    "large_trees = tree_subset[(tree_subset['tree_dbh']>60) | (tree_subset['stump_diam']>60)]\n",
    "large_trees"
   ]
  },
  {
   "cell_type": "code",
   "execution_count": null,
   "id": "4140073e-ff2e-4a9e-885e-9f2ea5f55a46",
   "metadata": {},
   "outputs": [],
   "source": [
    "tree_subset = tree_subset[(tree_subset['tree_dbh']<=60) | (tree_subset['stump_diam']<=60)]"
   ]
  },
  {
   "cell_type": "code",
   "execution_count": null,
   "id": "b42306da-5ac7-4140-9232-9084a41d2607",
   "metadata": {},
   "outputs": [],
   "source": [
    "tree_subset_alive = tree_subset[tree_subset['status'] == 'Alive']\n",
    "tree_subset_deadorstump = tree_subset[(tree_subset['status'] == 'Dead') | (tree_subset['status'] == 'Stump')]"
   ]
  },
  {
   "cell_type": "code",
   "execution_count": null,
   "id": "9eb5f1a8-baf2-4d61-a98f-6c1569db85e1",
   "metadata": {},
   "outputs": [],
   "source": [
    "#size and averages of the trees; grouped by name\n",
    "tree_subset_alive.groupby('spc_latin')['tree_dbh'].describe()"
   ]
  }
 ],
 "metadata": {
  "kernelspec": {
   "display_name": "Python 3 (ipykernel)",
   "language": "python",
   "name": "python3"
  },
  "language_info": {
   "codemirror_mode": {
    "name": "ipython",
    "version": 3
   },
   "file_extension": ".py",
   "mimetype": "text/x-python",
   "name": "python",
   "nbconvert_exporter": "python",
   "pygments_lexer": "ipython3",
   "version": "3.11.2"
  }
 },
 "nbformat": 4,
 "nbformat_minor": 5
}
